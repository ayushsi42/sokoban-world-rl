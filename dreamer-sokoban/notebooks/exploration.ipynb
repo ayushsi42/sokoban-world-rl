{
  "cells": [
    {
      "cell_type": "markdown",
      "metadata": {},
      "source": [
        "# DreamerV3-Sokoban Interactive Exploration\n",
        "\n",
        "This notebook provides interactive tools for exploring the DreamerV3-Sokoban implementation.\n"
      ]
    },
    {
      "cell_type": "code",
      "execution_count": null,
      "metadata": {},
      "outputs": [],
      "source": [
        "# Setup and imports\n",
        "import sys\n",
        "sys.path.append('../src')\n",
        "\n",
        "import numpy as np\n",
        "import torch\n",
        "import matplotlib.pyplot as plt\n",
        "from IPython.display import Image, display\n",
        "import ipywidgets as widgets\n",
        "\n",
        "from environments.sokoban_wrapper import create_sokoban_env\n",
        "from dreamer.agent import DreamerV3Agent\n",
        "from analysis.visualization import visualize_trajectory, create_sokoban_state_visualization\n"
      ]
    },
    {
      "cell_type": "markdown",
      "metadata": {},
      "source": [
        "## 1. Environment Exploration\n",
        "\n",
        "Let's explore the Sokoban environment and its different configurations.\n"
      ]
    },
    {
      "cell_type": "code",
      "execution_count": null,
      "metadata": {},
      "outputs": [],
      "source": [
        "# Create and visualize different Sokoban environments\n",
        "configs = [\n",
        "    {\"dim_room\": (5, 5), \"num_boxes\": 1, \"name\": \"Tiny (5x5, 1 box)\"},\n",
        "    {\"dim_room\": (7, 7), \"num_boxes\": 2, \"name\": \"Small (7x7, 2 boxes)\"},\n",
        "    {\"dim_room\": (10, 10), \"num_boxes\": 3, \"name\": \"Medium (10x10, 3 boxes)\"},\n",
        "]\n",
        "\n",
        "fig, axes = plt.subplots(1, 3, figsize=(12, 4))\n",
        "\n",
        "for idx, config in enumerate(configs):\n",
        "    env = create_sokoban_env(\n",
        "        env_type=\"standard\",\n",
        "        dim_room=config[\"dim_room\"],\n",
        "        num_boxes=config[\"num_boxes\"]\n",
        "    )\n",
        "    obs, _ = env.reset()\n",
        "    \n",
        "    axes[idx].imshow(obs)\n",
        "    axes[idx].set_title(config[\"name\"])\n",
        "    axes[idx].axis(\"off\")\n",
        "    \n",
        "    env.close()\n",
        "\n",
        "plt.tight_layout()\n",
        "plt.show()\n"
      ]
    }
  ],
  "metadata": {
    "language_info": {
      "name": "python"
    }
  },
  "nbformat": 4,
  "nbformat_minor": 2
}
